{
  "nbformat": 4,
  "nbformat_minor": 0,
  "metadata": {
    "colab": {
      "name": "Artificial Neural Network Regression",
      "provenance": [],
      "collapsed_sections": [],
      "toc_visible": true,
      "include_colab_link": true
    },
    "kernelspec": {
      "name": "python3",
      "display_name": "Python 3"
    }
  },
  "cells": [
    {
      "cell_type": "markdown",
      "metadata": {
        "id": "view-in-github",
        "colab_type": "text"
      },
      "source": [
        "<a href=\"https://colab.research.google.com/github/ANanade/deep_learning/blob/master/Artificial_Neural_Network_Regression.ipynb\" target=\"_parent\"><img src=\"https://colab.research.google.com/assets/colab-badge.svg\" alt=\"Open In Colab\"/></a>"
      ]
    },
    {
      "cell_type": "markdown",
      "metadata": {
        "id": "3cbb7fRy-eyr",
        "colab_type": "text"
      },
      "source": [
        "# Artificial Neural Network"
      ]
    },
    {
      "cell_type": "markdown",
      "metadata": {
        "id": "8sNDnxE2-pwE",
        "colab_type": "text"
      },
      "source": [
        "### Importing the libraries"
      ]
    },
    {
      "cell_type": "code",
      "metadata": {
        "id": "lxChR1Rk-umf",
        "colab_type": "code",
        "colab": {}
      },
      "source": [
        "import numpy as np\n",
        "import pandas as pd\n",
        "import tensorflow as tf"
      ],
      "execution_count": 2,
      "outputs": []
    },
    {
      "cell_type": "code",
      "metadata": {
        "id": "uBTqR3nacj0e",
        "colab_type": "code",
        "colab": {
          "base_uri": "https://localhost:8080/",
          "height": 35
        },
        "outputId": "64c5a49d-1ef2-451e-d4e4-5cbe8081f923"
      },
      "source": [
        "tf.__version__"
      ],
      "execution_count": 3,
      "outputs": [
        {
          "output_type": "execute_result",
          "data": {
            "application/vnd.google.colaboratory.intrinsic": {
              "type": "string"
            },
            "text/plain": [
              "'2.2.0'"
            ]
          },
          "metadata": {
            "tags": []
          },
          "execution_count": 3
        }
      ]
    },
    {
      "cell_type": "markdown",
      "metadata": {
        "id": "AG3FQEch-yuA",
        "colab_type": "text"
      },
      "source": [
        "## Part 1 - Data Preprocessing"
      ]
    },
    {
      "cell_type": "markdown",
      "metadata": {
        "id": "-4zq8Mza_D9O",
        "colab_type": "text"
      },
      "source": [
        "### Importing the dataset"
      ]
    },
    {
      "cell_type": "code",
      "metadata": {
        "id": "B9CV13Co_HHM",
        "colab_type": "code",
        "colab": {}
      },
      "source": [
        "dataset = pd.read_excel('Folds5x2_pp.xlsx')\n",
        "X = dataset.iloc[:, :-1].values\n",
        "y = dataset.iloc[:, -1].values"
      ],
      "execution_count": 4,
      "outputs": []
    },
    {
      "cell_type": "code",
      "metadata": {
        "id": "i28h8dQnWX34",
        "colab_type": "code",
        "colab": {
          "base_uri": "https://localhost:8080/",
          "height": 419
        },
        "outputId": "dcc8d49e-b0a9-4f66-b144-35732adb3447"
      },
      "source": [
        "dataset"
      ],
      "execution_count": 5,
      "outputs": [
        {
          "output_type": "execute_result",
          "data": {
            "text/html": [
              "<div>\n",
              "<style scoped>\n",
              "    .dataframe tbody tr th:only-of-type {\n",
              "        vertical-align: middle;\n",
              "    }\n",
              "\n",
              "    .dataframe tbody tr th {\n",
              "        vertical-align: top;\n",
              "    }\n",
              "\n",
              "    .dataframe thead th {\n",
              "        text-align: right;\n",
              "    }\n",
              "</style>\n",
              "<table border=\"1\" class=\"dataframe\">\n",
              "  <thead>\n",
              "    <tr style=\"text-align: right;\">\n",
              "      <th></th>\n",
              "      <th>AT</th>\n",
              "      <th>V</th>\n",
              "      <th>AP</th>\n",
              "      <th>RH</th>\n",
              "      <th>PE</th>\n",
              "    </tr>\n",
              "  </thead>\n",
              "  <tbody>\n",
              "    <tr>\n",
              "      <th>0</th>\n",
              "      <td>14.96</td>\n",
              "      <td>41.76</td>\n",
              "      <td>1024.07</td>\n",
              "      <td>73.17</td>\n",
              "      <td>463.26</td>\n",
              "    </tr>\n",
              "    <tr>\n",
              "      <th>1</th>\n",
              "      <td>25.18</td>\n",
              "      <td>62.96</td>\n",
              "      <td>1020.04</td>\n",
              "      <td>59.08</td>\n",
              "      <td>444.37</td>\n",
              "    </tr>\n",
              "    <tr>\n",
              "      <th>2</th>\n",
              "      <td>5.11</td>\n",
              "      <td>39.40</td>\n",
              "      <td>1012.16</td>\n",
              "      <td>92.14</td>\n",
              "      <td>488.56</td>\n",
              "    </tr>\n",
              "    <tr>\n",
              "      <th>3</th>\n",
              "      <td>20.86</td>\n",
              "      <td>57.32</td>\n",
              "      <td>1010.24</td>\n",
              "      <td>76.64</td>\n",
              "      <td>446.48</td>\n",
              "    </tr>\n",
              "    <tr>\n",
              "      <th>4</th>\n",
              "      <td>10.82</td>\n",
              "      <td>37.50</td>\n",
              "      <td>1009.23</td>\n",
              "      <td>96.62</td>\n",
              "      <td>473.90</td>\n",
              "    </tr>\n",
              "    <tr>\n",
              "      <th>...</th>\n",
              "      <td>...</td>\n",
              "      <td>...</td>\n",
              "      <td>...</td>\n",
              "      <td>...</td>\n",
              "      <td>...</td>\n",
              "    </tr>\n",
              "    <tr>\n",
              "      <th>9563</th>\n",
              "      <td>16.65</td>\n",
              "      <td>49.69</td>\n",
              "      <td>1014.01</td>\n",
              "      <td>91.00</td>\n",
              "      <td>460.03</td>\n",
              "    </tr>\n",
              "    <tr>\n",
              "      <th>9564</th>\n",
              "      <td>13.19</td>\n",
              "      <td>39.18</td>\n",
              "      <td>1023.67</td>\n",
              "      <td>66.78</td>\n",
              "      <td>469.62</td>\n",
              "    </tr>\n",
              "    <tr>\n",
              "      <th>9565</th>\n",
              "      <td>31.32</td>\n",
              "      <td>74.33</td>\n",
              "      <td>1012.92</td>\n",
              "      <td>36.48</td>\n",
              "      <td>429.57</td>\n",
              "    </tr>\n",
              "    <tr>\n",
              "      <th>9566</th>\n",
              "      <td>24.48</td>\n",
              "      <td>69.45</td>\n",
              "      <td>1013.86</td>\n",
              "      <td>62.39</td>\n",
              "      <td>435.74</td>\n",
              "    </tr>\n",
              "    <tr>\n",
              "      <th>9567</th>\n",
              "      <td>21.60</td>\n",
              "      <td>62.52</td>\n",
              "      <td>1017.23</td>\n",
              "      <td>67.87</td>\n",
              "      <td>453.28</td>\n",
              "    </tr>\n",
              "  </tbody>\n",
              "</table>\n",
              "<p>9568 rows × 5 columns</p>\n",
              "</div>"
            ],
            "text/plain": [
              "         AT      V       AP     RH      PE\n",
              "0     14.96  41.76  1024.07  73.17  463.26\n",
              "1     25.18  62.96  1020.04  59.08  444.37\n",
              "2      5.11  39.40  1012.16  92.14  488.56\n",
              "3     20.86  57.32  1010.24  76.64  446.48\n",
              "4     10.82  37.50  1009.23  96.62  473.90\n",
              "...     ...    ...      ...    ...     ...\n",
              "9563  16.65  49.69  1014.01  91.00  460.03\n",
              "9564  13.19  39.18  1023.67  66.78  469.62\n",
              "9565  31.32  74.33  1012.92  36.48  429.57\n",
              "9566  24.48  69.45  1013.86  62.39  435.74\n",
              "9567  21.60  62.52  1017.23  67.87  453.28\n",
              "\n",
              "[9568 rows x 5 columns]"
            ]
          },
          "metadata": {
            "tags": []
          },
          "execution_count": 5
        }
      ]
    },
    {
      "cell_type": "markdown",
      "metadata": {
        "id": "VC6omXel_Up0",
        "colab_type": "text"
      },
      "source": [
        "### Splitting the dataset into the Training set and Test set"
      ]
    },
    {
      "cell_type": "code",
      "metadata": {
        "id": "L5edeb2r_agx",
        "colab_type": "code",
        "colab": {}
      },
      "source": [
        "from sklearn.model_selection import train_test_split\n",
        "X_train, X_test, y_train, y_test = train_test_split(X, y, test_size = 0.2, random_state = 0)"
      ],
      "execution_count": 6,
      "outputs": []
    },
    {
      "cell_type": "markdown",
      "metadata": {
        "id": "_mSLlAT9_eyI",
        "colab_type": "text"
      },
      "source": [
        "## Part 2 - Building the ANN"
      ]
    },
    {
      "cell_type": "markdown",
      "metadata": {
        "id": "CsBULd_f_wLY",
        "colab_type": "text"
      },
      "source": [
        "### Initializing the ANN"
      ]
    },
    {
      "cell_type": "code",
      "metadata": {
        "id": "J6Hd97Ls__Nz",
        "colab_type": "code",
        "colab": {}
      },
      "source": [
        "ann = tf.keras.models.Sequential()"
      ],
      "execution_count": 7,
      "outputs": []
    },
    {
      "cell_type": "markdown",
      "metadata": {
        "id": "iitAFJS_ABUn",
        "colab_type": "text"
      },
      "source": [
        "### Adding the input layer and the first hidden layer"
      ]
    },
    {
      "cell_type": "code",
      "metadata": {
        "id": "ksO_Vv40AHix",
        "colab_type": "code",
        "colab": {}
      },
      "source": [
        "ann.add(tf.keras.layers.Dense(units=6, activation='relu'))"
      ],
      "execution_count": 8,
      "outputs": []
    },
    {
      "cell_type": "markdown",
      "metadata": {
        "id": "-lb4kK_wAKbs",
        "colab_type": "text"
      },
      "source": [
        "### Adding the second hidden layer"
      ]
    },
    {
      "cell_type": "code",
      "metadata": {
        "id": "c2357OqEAQOQ",
        "colab_type": "code",
        "colab": {}
      },
      "source": [
        "ann.add(tf.keras.layers.Dense(units=6, activation='relu'))"
      ],
      "execution_count": 9,
      "outputs": []
    },
    {
      "cell_type": "markdown",
      "metadata": {
        "id": "jwMOmKb3AdBY",
        "colab_type": "text"
      },
      "source": [
        "### Adding the output layer"
      ]
    },
    {
      "cell_type": "code",
      "metadata": {
        "id": "YFATpzsUAkLL",
        "colab_type": "code",
        "colab": {}
      },
      "source": [
        "ann.add(tf.keras.layers.Dense(units=1))"
      ],
      "execution_count": 10,
      "outputs": []
    },
    {
      "cell_type": "markdown",
      "metadata": {
        "id": "fq7e4fF6A1yy",
        "colab_type": "text"
      },
      "source": [
        "## Part 3 - Training the ANN"
      ]
    },
    {
      "cell_type": "markdown",
      "metadata": {
        "id": "qDeylAs2An25",
        "colab_type": "text"
      },
      "source": [
        "### Compiling the ANN"
      ]
    },
    {
      "cell_type": "markdown",
      "metadata": {
        "id": "ZFlYntW4WpOJ",
        "colab_type": "text"
      },
      "source": [
        "We are doing Regression so loss function here used is MSE \n",
        "NO activation function required as we are dealing with LR"
      ]
    },
    {
      "cell_type": "code",
      "metadata": {
        "id": "pesgbWlCAtB4",
        "colab_type": "code",
        "colab": {}
      },
      "source": [
        "ann.compile(optimizer = 'adam', loss = 'mean_squared_error')"
      ],
      "execution_count": 11,
      "outputs": []
    },
    {
      "cell_type": "markdown",
      "metadata": {
        "id": "YjVuiybYOo7r",
        "colab_type": "text"
      },
      "source": [
        "### Training the ANN model on the Training set"
      ]
    },
    {
      "cell_type": "code",
      "metadata": {
        "id": "c_vV-tiiA5zn",
        "colab_type": "code",
        "colab": {
          "base_uri": "https://localhost:8080/",
          "height": 1000
        },
        "outputId": "9365ef22-cdf6-4cdb-98a9-417695fe361a"
      },
      "source": [
        "ann.fit(X_train, y_train, batch_size = 32, epochs = 100)"
      ],
      "execution_count": 12,
      "outputs": [
        {
          "output_type": "stream",
          "text": [
            "Epoch 1/100\n",
            "240/240 [==============================] - 0s 1ms/step - loss: 22386.2969\n",
            "Epoch 2/100\n",
            "240/240 [==============================] - 0s 1ms/step - loss: 432.4825\n",
            "Epoch 3/100\n",
            "240/240 [==============================] - 0s 1ms/step - loss: 399.2012\n",
            "Epoch 4/100\n",
            "240/240 [==============================] - 0s 1ms/step - loss: 362.7854\n",
            "Epoch 5/100\n",
            "240/240 [==============================] - 0s 1ms/step - loss: 325.6599\n",
            "Epoch 6/100\n",
            "240/240 [==============================] - 0s 1ms/step - loss: 291.3019\n",
            "Epoch 7/100\n",
            "240/240 [==============================] - 0s 992us/step - loss: 259.9182\n",
            "Epoch 8/100\n",
            "240/240 [==============================] - 0s 1ms/step - loss: 231.7048\n",
            "Epoch 9/100\n",
            "240/240 [==============================] - 0s 1ms/step - loss: 205.9842\n",
            "Epoch 10/100\n",
            "240/240 [==============================] - 0s 993us/step - loss: 183.6028\n",
            "Epoch 11/100\n",
            "240/240 [==============================] - 0s 992us/step - loss: 163.7725\n",
            "Epoch 12/100\n",
            "240/240 [==============================] - 0s 1ms/step - loss: 145.9507\n",
            "Epoch 13/100\n",
            "240/240 [==============================] - 0s 1ms/step - loss: 130.4126\n",
            "Epoch 14/100\n",
            "240/240 [==============================] - 0s 1ms/step - loss: 115.8414\n",
            "Epoch 15/100\n",
            "240/240 [==============================] - 0s 989us/step - loss: 102.5975\n",
            "Epoch 16/100\n",
            "240/240 [==============================] - 0s 996us/step - loss: 91.0712\n",
            "Epoch 17/100\n",
            "240/240 [==============================] - 0s 1ms/step - loss: 81.1489\n",
            "Epoch 18/100\n",
            "240/240 [==============================] - 0s 1ms/step - loss: 71.5234\n",
            "Epoch 19/100\n",
            "240/240 [==============================] - 0s 1ms/step - loss: 63.6329\n",
            "Epoch 20/100\n",
            "240/240 [==============================] - 0s 996us/step - loss: 56.3617\n",
            "Epoch 21/100\n",
            "240/240 [==============================] - 0s 1ms/step - loss: 50.8100\n",
            "Epoch 22/100\n",
            "240/240 [==============================] - 0s 1ms/step - loss: 46.4274\n",
            "Epoch 23/100\n",
            "240/240 [==============================] - 0s 1ms/step - loss: 42.3584\n",
            "Epoch 24/100\n",
            "240/240 [==============================] - 0s 1ms/step - loss: 39.2171\n",
            "Epoch 25/100\n",
            "240/240 [==============================] - 0s 1ms/step - loss: 37.0049\n",
            "Epoch 26/100\n",
            "240/240 [==============================] - 0s 998us/step - loss: 35.4031\n",
            "Epoch 27/100\n",
            "240/240 [==============================] - 0s 1ms/step - loss: 34.2895\n",
            "Epoch 28/100\n",
            "240/240 [==============================] - 0s 1ms/step - loss: 32.9113\n",
            "Epoch 29/100\n",
            "240/240 [==============================] - 0s 1ms/step - loss: 32.9612\n",
            "Epoch 30/100\n",
            "240/240 [==============================] - 0s 1ms/step - loss: 31.3359\n",
            "Epoch 31/100\n",
            "240/240 [==============================] - 0s 1ms/step - loss: 31.6172\n",
            "Epoch 32/100\n",
            "240/240 [==============================] - 0s 1ms/step - loss: 30.5188\n",
            "Epoch 33/100\n",
            "240/240 [==============================] - 0s 1ms/step - loss: 29.7443\n",
            "Epoch 34/100\n",
            "240/240 [==============================] - 0s 990us/step - loss: 29.1615\n",
            "Epoch 35/100\n",
            "240/240 [==============================] - 0s 1ms/step - loss: 28.8200\n",
            "Epoch 36/100\n",
            "240/240 [==============================] - 0s 978us/step - loss: 28.5514\n",
            "Epoch 37/100\n",
            "240/240 [==============================] - 0s 1ms/step - loss: 29.0516\n",
            "Epoch 38/100\n",
            "240/240 [==============================] - 0s 1ms/step - loss: 28.3664\n",
            "Epoch 39/100\n",
            "240/240 [==============================] - 0s 1ms/step - loss: 28.0733\n",
            "Epoch 40/100\n",
            "240/240 [==============================] - 0s 1ms/step - loss: 27.9634\n",
            "Epoch 41/100\n",
            "240/240 [==============================] - 0s 1ms/step - loss: 27.4790\n",
            "Epoch 42/100\n",
            "240/240 [==============================] - 0s 1ms/step - loss: 27.1316\n",
            "Epoch 43/100\n",
            "240/240 [==============================] - 0s 1ms/step - loss: 27.0393\n",
            "Epoch 44/100\n",
            "240/240 [==============================] - 0s 1ms/step - loss: 28.2320\n",
            "Epoch 45/100\n",
            "240/240 [==============================] - 0s 1ms/step - loss: 27.6883\n",
            "Epoch 46/100\n",
            "240/240 [==============================] - 0s 1ms/step - loss: 27.9800\n",
            "Epoch 47/100\n",
            "240/240 [==============================] - 0s 1ms/step - loss: 27.3033\n",
            "Epoch 48/100\n",
            "240/240 [==============================] - 0s 1ms/step - loss: 27.0887\n",
            "Epoch 49/100\n",
            "240/240 [==============================] - 0s 1ms/step - loss: 27.4166\n",
            "Epoch 50/100\n",
            "240/240 [==============================] - 0s 1ms/step - loss: 27.2765\n",
            "Epoch 51/100\n",
            "240/240 [==============================] - 0s 1ms/step - loss: 26.8158\n",
            "Epoch 52/100\n",
            "240/240 [==============================] - 0s 1ms/step - loss: 28.3052\n",
            "Epoch 53/100\n",
            "240/240 [==============================] - 0s 1ms/step - loss: 27.1273\n",
            "Epoch 54/100\n",
            "240/240 [==============================] - 0s 1ms/step - loss: 27.1922\n",
            "Epoch 55/100\n",
            "240/240 [==============================] - 0s 999us/step - loss: 27.4846\n",
            "Epoch 56/100\n",
            "240/240 [==============================] - 0s 1ms/step - loss: 26.6888\n",
            "Epoch 57/100\n",
            "240/240 [==============================] - 0s 1ms/step - loss: 27.0908\n",
            "Epoch 58/100\n",
            "240/240 [==============================] - 0s 1ms/step - loss: 27.1369\n",
            "Epoch 59/100\n",
            "240/240 [==============================] - 0s 1000us/step - loss: 27.6730\n",
            "Epoch 60/100\n",
            "240/240 [==============================] - 0s 1ms/step - loss: 27.5449\n",
            "Epoch 61/100\n",
            "240/240 [==============================] - 0s 1ms/step - loss: 26.6500\n",
            "Epoch 62/100\n",
            "240/240 [==============================] - 0s 1ms/step - loss: 26.8644\n",
            "Epoch 63/100\n",
            "240/240 [==============================] - 0s 991us/step - loss: 27.1949\n",
            "Epoch 64/100\n",
            "240/240 [==============================] - 0s 1ms/step - loss: 27.2634\n",
            "Epoch 65/100\n",
            "240/240 [==============================] - 0s 1ms/step - loss: 26.7080\n",
            "Epoch 66/100\n",
            "240/240 [==============================] - 0s 1ms/step - loss: 26.9797\n",
            "Epoch 67/100\n",
            "240/240 [==============================] - 0s 988us/step - loss: 27.9223\n",
            "Epoch 68/100\n",
            "240/240 [==============================] - 0s 1ms/step - loss: 26.6834\n",
            "Epoch 69/100\n",
            "240/240 [==============================] - 0s 1ms/step - loss: 26.8346\n",
            "Epoch 70/100\n",
            "240/240 [==============================] - 0s 999us/step - loss: 28.0361\n",
            "Epoch 71/100\n",
            "240/240 [==============================] - 0s 1ms/step - loss: 27.6681\n",
            "Epoch 72/100\n",
            "240/240 [==============================] - 0s 1ms/step - loss: 26.5639\n",
            "Epoch 73/100\n",
            "240/240 [==============================] - 0s 1ms/step - loss: 27.5322\n",
            "Epoch 74/100\n",
            "240/240 [==============================] - 0s 1ms/step - loss: 27.3470\n",
            "Epoch 75/100\n",
            "240/240 [==============================] - 0s 1ms/step - loss: 26.8067\n",
            "Epoch 76/100\n",
            "240/240 [==============================] - 0s 1ms/step - loss: 26.9889\n",
            "Epoch 77/100\n",
            "240/240 [==============================] - 0s 1ms/step - loss: 26.7530\n",
            "Epoch 78/100\n",
            "240/240 [==============================] - 0s 1ms/step - loss: 26.9574\n",
            "Epoch 79/100\n",
            "240/240 [==============================] - 0s 1ms/step - loss: 26.7635\n",
            "Epoch 80/100\n",
            "240/240 [==============================] - 0s 1ms/step - loss: 27.4315\n",
            "Epoch 81/100\n",
            "240/240 [==============================] - 0s 1ms/step - loss: 26.5743\n",
            "Epoch 82/100\n",
            "240/240 [==============================] - 0s 1ms/step - loss: 27.0757\n",
            "Epoch 83/100\n",
            "240/240 [==============================] - 0s 1ms/step - loss: 27.1212\n",
            "Epoch 84/100\n",
            "240/240 [==============================] - 0s 1ms/step - loss: 27.7401\n",
            "Epoch 85/100\n",
            "240/240 [==============================] - 0s 1ms/step - loss: 26.8649\n",
            "Epoch 86/100\n",
            "240/240 [==============================] - 0s 1ms/step - loss: 26.8487\n",
            "Epoch 87/100\n",
            "240/240 [==============================] - 0s 1ms/step - loss: 27.2378\n",
            "Epoch 88/100\n",
            "240/240 [==============================] - 0s 998us/step - loss: 26.9065\n",
            "Epoch 89/100\n",
            "240/240 [==============================] - 0s 1ms/step - loss: 26.9097\n",
            "Epoch 90/100\n",
            "240/240 [==============================] - 0s 999us/step - loss: 26.9692\n",
            "Epoch 91/100\n",
            "240/240 [==============================] - 0s 1ms/step - loss: 26.8289\n",
            "Epoch 92/100\n",
            "240/240 [==============================] - 0s 1ms/step - loss: 28.2282\n",
            "Epoch 93/100\n",
            "240/240 [==============================] - 0s 1ms/step - loss: 27.6042\n",
            "Epoch 94/100\n",
            "240/240 [==============================] - 0s 1ms/step - loss: 26.5098\n",
            "Epoch 95/100\n",
            "240/240 [==============================] - 0s 1ms/step - loss: 27.1891\n",
            "Epoch 96/100\n",
            "240/240 [==============================] - 0s 1ms/step - loss: 27.5897\n",
            "Epoch 97/100\n",
            "240/240 [==============================] - 0s 1ms/step - loss: 27.4309\n",
            "Epoch 98/100\n",
            "240/240 [==============================] - 0s 1ms/step - loss: 26.5222\n",
            "Epoch 99/100\n",
            "240/240 [==============================] - 0s 1ms/step - loss: 26.8911\n",
            "Epoch 100/100\n",
            "240/240 [==============================] - 0s 1ms/step - loss: 26.8093\n"
          ],
          "name": "stdout"
        },
        {
          "output_type": "execute_result",
          "data": {
            "text/plain": [
              "<tensorflow.python.keras.callbacks.History at 0x7fa3d45c9d30>"
            ]
          },
          "metadata": {
            "tags": []
          },
          "execution_count": 12
        }
      ]
    },
    {
      "cell_type": "markdown",
      "metadata": {
        "id": "0H0zKKNEBLD5",
        "colab_type": "text"
      },
      "source": [
        "### Predicting the results of the Test set"
      ]
    },
    {
      "cell_type": "code",
      "metadata": {
        "id": "IA0yApEmBG1X",
        "colab_type": "code",
        "colab": {
          "base_uri": "https://localhost:8080/",
          "height": 136
        },
        "outputId": "2bbd2058-98f4-4893-d8ae-8634504e08e9"
      },
      "source": [
        "y_pred = ann.predict(X_test)\n",
        "np.set_printoptions(precision=2)\n",
        "print(np.concatenate((y_pred.reshape(len(y_pred),1), y_test.reshape(len(y_test),1)),1))"
      ],
      "execution_count": 13,
      "outputs": [
        {
          "output_type": "stream",
          "text": [
            "[[431.26 431.23]\n",
            " [462.29 460.01]\n",
            " [465.8  461.14]\n",
            " ...\n",
            " [473.02 473.26]\n",
            " [439.82 438.  ]\n",
            " [459.02 463.28]]\n"
          ],
          "name": "stdout"
        }
      ]
    }
  ]
}